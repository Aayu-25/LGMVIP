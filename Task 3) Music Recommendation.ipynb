{
 "cells": [
  {
   "attachments": {
    "Letsgrowmore%20logo.png": {
     "image/png": "[encoded data removed]"
    }
   },
   "cell_type": "markdown",
   "id": "45895107",
   "metadata": {},
   "source": [
    "![Letsgrowmore%20logo.png](attachment:Letsgrowmore%20logo.png)\n",
    "\n",
    "\n",
    "\n",
    "\n",
    "\n",
    "\n",
    " <b>TASK 3} Music Recommendation System || September 2021 || Data Science Internship\n",
    "   <br><br> Author</b>- Aayushi Dighe "
   ]
  },
  {
   "cell_type": "code",
   "execution_count": 1,
   "id": "af87dbba",
   "metadata": {},
   "outputs": [],
   "source": [
    "import numpy as np\n",
    "import pandas as pd\n",
    "import matplotlib.pyplot as plt\n",
    "import seaborn as sns\n",
    "import warnings\n",
    "warnings.filterwarnings(\"ignore\")"
   ]
  },
  {
   "cell_type": "code",
   "execution_count": 2,
   "id": "32539dc4",
   "metadata": {},
   "outputs": [],
   "source": [
    "from typing import List, Dict"
   ]
  },
  {
   "cell_type": "code",
   "execution_count": 3,
   "id": "da7ab0b4",
   "metadata": {},
   "outputs": [],
   "source": [
    "from sklearn.feature_extraction.text import TfidfVectorizer\n",
    "from sklearn.metrics.pairwise import cosine_similarity"
   ]
  },
  {
   "cell_type": "code",
   "execution_count": 4,
   "id": "e7cbd66b",
   "metadata": {},
   "outputs": [],
   "source": [
    "songs = pd.read_csv(r\"C:\\Users\\Hp\\Downloads\\song_data.csv\")\n",
    "users = pd.read_csv(r\"C:\\Users\\Hp\\Downloads\\millionsong.csv\")"
   ]
  },
  {
   "cell_type": "code",
   "execution_count": 5,
   "id": "a1706636",
   "metadata": {},
   "outputs": [
    {
     "data": {
      "text/html": [
       "<div>\n",
       "<style scoped>\n",
       "    .dataframe tbody tr th:only-of-type {\n",
       "        vertical-align: middle;\n",
       "    }\n",
       "\n",
       "    .dataframe tbody tr th {\n",
       "        vertical-align: top;\n",
       "    }\n",
       "\n",
       "    .dataframe thead th {\n",
       "        text-align: right;\n",
       "    }\n",
       "</style>\n",
       "<table border=\"1\" class=\"dataframe\">\n",
       "  <thead>\n",
       "    <tr style=\"text-align: right;\">\n",
       "      <th></th>\n",
       "      <th>song_id</th>\n",
       "      <th>title</th>\n",
       "      <th>release</th>\n",
       "      <th>artist_name</th>\n",
       "      <th>year</th>\n",
       "    </tr>\n",
       "  </thead>\n",
       "  <tbody>\n",
       "    <tr>\n",
       "      <th>0</th>\n",
       "      <td>SOQMMHC12AB0180CB8</td>\n",
       "      <td>Silent Night</td>\n",
       "      <td>Monster Ballads X-Mas</td>\n",
       "      <td>Faster Pussy cat</td>\n",
       "      <td>2003.0</td>\n",
       "    </tr>\n",
       "    <tr>\n",
       "      <th>1</th>\n",
       "      <td>SOVFVAK12A8C1350D9</td>\n",
       "      <td>Tanssi vaan</td>\n",
       "      <td>Karkuteill??</td>\n",
       "      <td>Karkkiautomaatti</td>\n",
       "      <td>1995.0</td>\n",
       "    </tr>\n",
       "    <tr>\n",
       "      <th>2</th>\n",
       "      <td>SOGTUKN12AB017F4F1</td>\n",
       "      <td>No One Could Ever</td>\n",
       "      <td>Butter</td>\n",
       "      <td>Hudson Mohawke</td>\n",
       "      <td>2006.0</td>\n",
       "    </tr>\n",
       "    <tr>\n",
       "      <th>3</th>\n",
       "      <td>SOBNYVR12A8C13558C</td>\n",
       "      <td>Si Vos Quer??s</td>\n",
       "      <td>De Culo</td>\n",
       "      <td>Yerba Brava</td>\n",
       "      <td>2003.0</td>\n",
       "    </tr>\n",
       "    <tr>\n",
       "      <th>4</th>\n",
       "      <td>SOHSBXH12A8C13B0DF</td>\n",
       "      <td>Tangle Of Aspens</td>\n",
       "      <td>Rene Ablaze Presents Winter Sessions</td>\n",
       "      <td>Der Mystic</td>\n",
       "      <td>0.0</td>\n",
       "    </tr>\n",
       "  </tbody>\n",
       "</table>\n",
       "</div>"
      ],
      "text/plain": [
       "              song_id              title  \\\n",
       "0  SOQMMHC12AB0180CB8       Silent Night   \n",
       "1  SOVFVAK12A8C1350D9        Tanssi vaan   \n",
       "2  SOGTUKN12AB017F4F1  No One Could Ever   \n",
       "3  SOBNYVR12A8C13558C     Si Vos Quer??s   \n",
       "4  SOHSBXH12A8C13B0DF   Tangle Of Aspens   \n",
       "\n",
       "                                release       artist_name    year  \n",
       "0                 Monster Ballads X-Mas  Faster Pussy cat  2003.0  \n",
       "1                          Karkuteill??  Karkkiautomaatti  1995.0  \n",
       "2                                Butter    Hudson Mohawke  2006.0  \n",
       "3                               De Culo       Yerba Brava  2003.0  \n",
       "4  Rene Ablaze Presents Winter Sessions        Der Mystic     0.0  "
      ]
     },
     "execution_count": 5,
     "metadata": {},
     "output_type": "execute_result"
    }
   ],
   "source": [
    "songs.head()"
   ]
  },
  {
   "cell_type": "code",
   "execution_count": 6,
   "id": "23bb1abd",
   "metadata": {},
   "outputs": [
    {
     "data": {
      "text/html": [
       "<div>\n",
       "<style scoped>\n",
       "    .dataframe tbody tr th:only-of-type {\n",
       "        vertical-align: middle;\n",
       "    }\n",
       "\n",
       "    .dataframe tbody tr th {\n",
       "        vertical-align: top;\n",
       "    }\n",
       "\n",
       "    .dataframe thead th {\n",
       "        text-align: right;\n",
       "    }\n",
       "</style>\n",
       "<table border=\"1\" class=\"dataframe\">\n",
       "  <thead>\n",
       "    <tr style=\"text-align: right;\">\n",
       "      <th></th>\n",
       "      <th>user_id</th>\n",
       "      <th>song_id</th>\n",
       "      <th>listen_count</th>\n",
       "    </tr>\n",
       "  </thead>\n",
       "  <tbody>\n",
       "    <tr>\n",
       "      <th>0</th>\n",
       "      <td>b80344d063b5ccb3212f76538f3d9e43d87dca9e</td>\n",
       "      <td>SOBBMDR12A8C13253B</td>\n",
       "      <td>2</td>\n",
       "    </tr>\n",
       "    <tr>\n",
       "      <th>1</th>\n",
       "      <td>b80344d063b5ccb3212f76538f3d9e43d87dca9e</td>\n",
       "      <td>SOBXHDL12A81C204C0</td>\n",
       "      <td>1</td>\n",
       "    </tr>\n",
       "    <tr>\n",
       "      <th>2</th>\n",
       "      <td>b80344d063b5ccb3212f76538f3d9e43d87dca9e</td>\n",
       "      <td>SOBYHAJ12A6701BF1D</td>\n",
       "      <td>1</td>\n",
       "    </tr>\n",
       "    <tr>\n",
       "      <th>3</th>\n",
       "      <td>b80344d063b5ccb3212f76538f3d9e43d87dca9e</td>\n",
       "      <td>SODACBL12A8C13C273</td>\n",
       "      <td>1</td>\n",
       "    </tr>\n",
       "    <tr>\n",
       "      <th>4</th>\n",
       "      <td>b80344d063b5ccb3212f76538f3d9e43d87dca9e</td>\n",
       "      <td>SODDNQT12A6D4F5F7E</td>\n",
       "      <td>5</td>\n",
       "    </tr>\n",
       "  </tbody>\n",
       "</table>\n",
       "</div>"
      ],
      "text/plain": [
       "                                    user_id             song_id  listen_count\n",
       "0  b80344d063b5ccb3212f76538f3d9e43d87dca9e  SOBBMDR12A8C13253B             2\n",
       "1  b80344d063b5ccb3212f76538f3d9e43d87dca9e  SOBXHDL12A81C204C0             1\n",
       "2  b80344d063b5ccb3212f76538f3d9e43d87dca9e  SOBYHAJ12A6701BF1D             1\n",
       "3  b80344d063b5ccb3212f76538f3d9e43d87dca9e  SODACBL12A8C13C273             1\n",
       "4  b80344d063b5ccb3212f76538f3d9e43d87dca9e  SODDNQT12A6D4F5F7E             5"
      ]
     },
     "execution_count": 6,
     "metadata": {},
     "output_type": "execute_result"
    }
   ],
   "source": [
    "users.head()"
   ]
  },
  {
   "cell_type": "code",
   "execution_count": 7,
   "id": "20ba5e1a",
   "metadata": {},
   "outputs": [
    {
     "name": "stdout",
     "output_type": "stream",
     "text": [
      "<class 'pandas.core.frame.DataFrame'>\n",
      "RangeIndex: 1000001 entries, 0 to 1000000\n",
      "Data columns (total 5 columns):\n",
      " #   Column       Non-Null Count    Dtype  \n",
      "---  ------       --------------    -----  \n",
      " 0   song_id      999999 non-null   object \n",
      " 1   title        999986 non-null   object \n",
      " 2   release      999995 non-null   object \n",
      " 3   artist_name  1000000 non-null  object \n",
      " 4   year         1000000 non-null  float64\n",
      "dtypes: float64(1), object(4)\n",
      "memory usage: 38.1+ MB\n"
     ]
    }
   ],
   "source": [
    "songs.info()"
   ]
  },
  {
   "cell_type": "code",
   "execution_count": 8,
   "id": "21b806f6",
   "metadata": {},
   "outputs": [
    {
     "data": {
      "text/html": [
       "<div>\n",
       "<style scoped>\n",
       "    .dataframe tbody tr th:only-of-type {\n",
       "        vertical-align: middle;\n",
       "    }\n",
       "\n",
       "    .dataframe tbody tr th {\n",
       "        vertical-align: top;\n",
       "    }\n",
       "\n",
       "    .dataframe thead th {\n",
       "        text-align: right;\n",
       "    }\n",
       "</style>\n",
       "<table border=\"1\" class=\"dataframe\">\n",
       "  <thead>\n",
       "    <tr style=\"text-align: right;\">\n",
       "      <th></th>\n",
       "      <th>year</th>\n",
       "    </tr>\n",
       "  </thead>\n",
       "  <tbody>\n",
       "    <tr>\n",
       "      <th>count</th>\n",
       "      <td>1000000.000000</td>\n",
       "    </tr>\n",
       "    <tr>\n",
       "      <th>mean</th>\n",
       "      <td>1030.325652</td>\n",
       "    </tr>\n",
       "    <tr>\n",
       "      <th>std</th>\n",
       "      <td>998.745002</td>\n",
       "    </tr>\n",
       "    <tr>\n",
       "      <th>min</th>\n",
       "      <td>0.000000</td>\n",
       "    </tr>\n",
       "    <tr>\n",
       "      <th>25%</th>\n",
       "      <td>0.000000</td>\n",
       "    </tr>\n",
       "    <tr>\n",
       "      <th>50%</th>\n",
       "      <td>1969.000000</td>\n",
       "    </tr>\n",
       "    <tr>\n",
       "      <th>75%</th>\n",
       "      <td>2002.000000</td>\n",
       "    </tr>\n",
       "    <tr>\n",
       "      <th>max</th>\n",
       "      <td>2011.000000</td>\n",
       "    </tr>\n",
       "  </tbody>\n",
       "</table>\n",
       "</div>"
      ],
      "text/plain": [
       "                 year\n",
       "count  1000000.000000\n",
       "mean      1030.325652\n",
       "std        998.745002\n",
       "min          0.000000\n",
       "25%          0.000000\n",
       "50%       1969.000000\n",
       "75%       2002.000000\n",
       "max       2011.000000"
      ]
     },
     "execution_count": 8,
     "metadata": {},
     "output_type": "execute_result"
    }
   ],
   "source": [
    "songs.describe()"
   ]
  },
  {
   "cell_type": "code",
   "execution_count": 9,
   "id": "8992c241",
   "metadata": {},
   "outputs": [
    {
     "name": "stdout",
     "output_type": "stream",
     "text": [
      "<class 'pandas.core.frame.DataFrame'>\n",
      "RangeIndex: 1048575 entries, 0 to 1048574\n",
      "Data columns (total 3 columns):\n",
      " #   Column        Non-Null Count    Dtype \n",
      "---  ------        --------------    ----- \n",
      " 0   user_id       1048575 non-null  object\n",
      " 1   song_id       1048575 non-null  object\n",
      " 2   listen_count  1048575 non-null  int64 \n",
      "dtypes: int64(1), object(2)\n",
      "memory usage: 24.0+ MB\n"
     ]
    }
   ],
   "source": [
    "users.info()"
   ]
  },
  {
   "cell_type": "code",
   "execution_count": 10,
   "id": "84fec5c9",
   "metadata": {},
   "outputs": [
    {
     "data": {
      "text/html": [
       "<div>\n",
       "<style scoped>\n",
       "    .dataframe tbody tr th:only-of-type {\n",
       "        vertical-align: middle;\n",
       "    }\n",
       "\n",
       "    .dataframe tbody tr th {\n",
       "        vertical-align: top;\n",
       "    }\n",
       "\n",
       "    .dataframe thead th {\n",
       "        text-align: right;\n",
       "    }\n",
       "</style>\n",
       "<table border=\"1\" class=\"dataframe\">\n",
       "  <thead>\n",
       "    <tr style=\"text-align: right;\">\n",
       "      <th></th>\n",
       "      <th>listen_count</th>\n",
       "    </tr>\n",
       "  </thead>\n",
       "  <tbody>\n",
       "    <tr>\n",
       "      <th>count</th>\n",
       "      <td>1.048575e+06</td>\n",
       "    </tr>\n",
       "    <tr>\n",
       "      <th>mean</th>\n",
       "      <td>2.983548e+00</td>\n",
       "    </tr>\n",
       "    <tr>\n",
       "      <th>std</th>\n",
       "      <td>5.174146e+00</td>\n",
       "    </tr>\n",
       "    <tr>\n",
       "      <th>min</th>\n",
       "      <td>1.000000e+00</td>\n",
       "    </tr>\n",
       "    <tr>\n",
       "      <th>25%</th>\n",
       "      <td>1.000000e+00</td>\n",
       "    </tr>\n",
       "    <tr>\n",
       "      <th>50%</th>\n",
       "      <td>1.000000e+00</td>\n",
       "    </tr>\n",
       "    <tr>\n",
       "      <th>75%</th>\n",
       "      <td>3.000000e+00</td>\n",
       "    </tr>\n",
       "    <tr>\n",
       "      <th>max</th>\n",
       "      <td>9.900000e+01</td>\n",
       "    </tr>\n",
       "  </tbody>\n",
       "</table>\n",
       "</div>"
      ],
      "text/plain": [
       "       listen_count\n",
       "count  1.048575e+06\n",
       "mean   2.983548e+00\n",
       "std    5.174146e+00\n",
       "min    1.000000e+00\n",
       "25%    1.000000e+00\n",
       "50%    1.000000e+00\n",
       "75%    3.000000e+00\n",
       "max    9.900000e+01"
      ]
     },
     "execution_count": 10,
     "metadata": {},
     "output_type": "execute_result"
    }
   ],
   "source": [
    "users.describe()"
   ]
  },
  {
   "cell_type": "code",
   "execution_count": 11,
   "id": "6803d0ed",
   "metadata": {},
   "outputs": [
    {
     "data": {
      "text/html": [
       "<div>\n",
       "<style scoped>\n",
       "    .dataframe tbody tr th:only-of-type {\n",
       "        vertical-align: middle;\n",
       "    }\n",
       "\n",
       "    .dataframe tbody tr th {\n",
       "        vertical-align: top;\n",
       "    }\n",
       "\n",
       "    .dataframe thead th {\n",
       "        text-align: right;\n",
       "    }\n",
       "</style>\n",
       "<table border=\"1\" class=\"dataframe\">\n",
       "  <thead>\n",
       "    <tr style=\"text-align: right;\">\n",
       "      <th></th>\n",
       "      <th>song_id</th>\n",
       "      <th>title</th>\n",
       "      <th>Album</th>\n",
       "      <th>Artist</th>\n",
       "      <th>year</th>\n",
       "    </tr>\n",
       "  </thead>\n",
       "  <tbody>\n",
       "    <tr>\n",
       "      <th>0</th>\n",
       "      <td>SOQMMHC12AB0180CB8</td>\n",
       "      <td>Silent Night</td>\n",
       "      <td>Monster Ballads X-Mas</td>\n",
       "      <td>Faster Pussy cat</td>\n",
       "      <td>2003</td>\n",
       "    </tr>\n",
       "    <tr>\n",
       "      <th>1</th>\n",
       "      <td>SOVFVAK12A8C1350D9</td>\n",
       "      <td>Tanssi vaan</td>\n",
       "      <td>Karkuteill??</td>\n",
       "      <td>Karkkiautomaatti</td>\n",
       "      <td>1995</td>\n",
       "    </tr>\n",
       "    <tr>\n",
       "      <th>2</th>\n",
       "      <td>SOGTUKN12AB017F4F1</td>\n",
       "      <td>No One Could Ever</td>\n",
       "      <td>Butter</td>\n",
       "      <td>Hudson Mohawke</td>\n",
       "      <td>2006</td>\n",
       "    </tr>\n",
       "    <tr>\n",
       "      <th>3</th>\n",
       "      <td>SOBNYVR12A8C13558C</td>\n",
       "      <td>Si Vos Quer??s</td>\n",
       "      <td>De Culo</td>\n",
       "      <td>Yerba Brava</td>\n",
       "      <td>2003</td>\n",
       "    </tr>\n",
       "    <tr>\n",
       "      <th>4</th>\n",
       "      <td>SOHSBXH12A8C13B0DF</td>\n",
       "      <td>Tangle Of Aspens</td>\n",
       "      <td>Rene Ablaze Presents Winter Sessions</td>\n",
       "      <td>Der Mystic</td>\n",
       "      <td>0</td>\n",
       "    </tr>\n",
       "  </tbody>\n",
       "</table>\n",
       "</div>"
      ],
      "text/plain": [
       "              song_id              title  \\\n",
       "0  SOQMMHC12AB0180CB8       Silent Night   \n",
       "1  SOVFVAK12A8C1350D9        Tanssi vaan   \n",
       "2  SOGTUKN12AB017F4F1  No One Could Ever   \n",
       "3  SOBNYVR12A8C13558C     Si Vos Quer??s   \n",
       "4  SOHSBXH12A8C13B0DF   Tangle Of Aspens   \n",
       "\n",
       "                                  Album            Artist  year  \n",
       "0                 Monster Ballads X-Mas  Faster Pussy cat  2003  \n",
       "1                          Karkuteill??  Karkkiautomaatti  1995  \n",
       "2                                Butter    Hudson Mohawke  2006  \n",
       "3                               De Culo       Yerba Brava  2003  \n",
       "4  Rene Ablaze Presents Winter Sessions        Der Mystic     0  "
      ]
     },
     "execution_count": 11,
     "metadata": {},
     "output_type": "execute_result"
    }
   ],
   "source": [
    "songs[\"year\"] = songs[\"year\"].astype('Int64')\n",
    "songs.rename(columns={\"release\": \"Album\", \"artist_name\": \"Artist\"}, inplace=True)\n",
    "songs.head()"
   ]
  },
  {
   "cell_type": "code",
   "execution_count": 12,
   "id": "f5599ee2",
   "metadata": {},
   "outputs": [
    {
     "data": {
      "text/html": [
       "<div>\n",
       "<style scoped>\n",
       "    .dataframe tbody tr th:only-of-type {\n",
       "        vertical-align: middle;\n",
       "    }\n",
       "\n",
       "    .dataframe tbody tr th {\n",
       "        vertical-align: top;\n",
       "    }\n",
       "\n",
       "    .dataframe thead th {\n",
       "        text-align: right;\n",
       "    }\n",
       "</style>\n",
       "<table border=\"1\" class=\"dataframe\">\n",
       "  <thead>\n",
       "    <tr style=\"text-align: right;\">\n",
       "      <th></th>\n",
       "      <th>user_id</th>\n",
       "      <th>song_id</th>\n",
       "      <th>listen_count</th>\n",
       "      <th>Album</th>\n",
       "      <th>Artist</th>\n",
       "      <th>year</th>\n",
       "      <th>song</th>\n",
       "    </tr>\n",
       "  </thead>\n",
       "  <tbody>\n",
       "    <tr>\n",
       "      <th>0</th>\n",
       "      <td>b80344d063b5ccb3212f76538f3d9e43d87dca9e</td>\n",
       "      <td>SOBBMDR12A8C13253B</td>\n",
       "      <td>2</td>\n",
       "      <td>Flamenco Para Ni?�os</td>\n",
       "      <td>Paco De Lucia</td>\n",
       "      <td>1976</td>\n",
       "      <td>Paco De Lucia - Entre Dos Aguas</td>\n",
       "    </tr>\n",
       "    <tr>\n",
       "      <th>1</th>\n",
       "      <td>b80344d063b5ccb3212f76538f3d9e43d87dca9e</td>\n",
       "      <td>SOBXHDL12A81C204C0</td>\n",
       "      <td>1</td>\n",
       "      <td>Graduation</td>\n",
       "      <td>Kanye West</td>\n",
       "      <td>2007</td>\n",
       "      <td>Kanye West - Stronger</td>\n",
       "    </tr>\n",
       "    <tr>\n",
       "      <th>2</th>\n",
       "      <td>b80344d063b5ccb3212f76538f3d9e43d87dca9e</td>\n",
       "      <td>SOBYHAJ12A6701BF1D</td>\n",
       "      <td>1</td>\n",
       "      <td>In Between Dreams</td>\n",
       "      <td>Jack Johnson</td>\n",
       "      <td>2005</td>\n",
       "      <td>Jack Johnson - Constellations</td>\n",
       "    </tr>\n",
       "    <tr>\n",
       "      <th>3</th>\n",
       "      <td>b80344d063b5ccb3212f76538f3d9e43d87dca9e</td>\n",
       "      <td>SODACBL12A8C13C273</td>\n",
       "      <td>1</td>\n",
       "      <td>There Is Nothing Left To Lose</td>\n",
       "      <td>Foo Fighters</td>\n",
       "      <td>1999</td>\n",
       "      <td>Foo Fighters - Learn To Fly</td>\n",
       "    </tr>\n",
       "    <tr>\n",
       "      <th>4</th>\n",
       "      <td>b80344d063b5ccb3212f76538f3d9e43d87dca9e</td>\n",
       "      <td>SODDNQT12A6D4F5F7E</td>\n",
       "      <td>5</td>\n",
       "      <td>Antolog??a Audiovisual</td>\n",
       "      <td>H??roes del Silencio</td>\n",
       "      <td>2007</td>\n",
       "      <td>H??roes del Silencio - Apuesta Por El Rock 'N'...</td>\n",
       "    </tr>\n",
       "  </tbody>\n",
       "</table>\n",
       "</div>"
      ],
      "text/plain": [
       "                                    user_id             song_id  listen_count  \\\n",
       "0  b80344d063b5ccb3212f76538f3d9e43d87dca9e  SOBBMDR12A8C13253B             2   \n",
       "1  b80344d063b5ccb3212f76538f3d9e43d87dca9e  SOBXHDL12A81C204C0             1   \n",
       "2  b80344d063b5ccb3212f76538f3d9e43d87dca9e  SOBYHAJ12A6701BF1D             1   \n",
       "3  b80344d063b5ccb3212f76538f3d9e43d87dca9e  SODACBL12A8C13C273             1   \n",
       "4  b80344d063b5ccb3212f76538f3d9e43d87dca9e  SODDNQT12A6D4F5F7E             5   \n",
       "\n",
       "                           Album                Artist  year  \\\n",
       "0           Flamenco Para Ni?�os         Paco De Lucia  1976   \n",
       "1                     Graduation            Kanye West  2007   \n",
       "2              In Between Dreams          Jack Johnson  2005   \n",
       "3  There Is Nothing Left To Lose          Foo Fighters  1999   \n",
       "4         Antolog??a Audiovisual  H??roes del Silencio  2007   \n",
       "\n",
       "                                                song  \n",
       "0                    Paco De Lucia - Entre Dos Aguas  \n",
       "1                              Kanye West - Stronger  \n",
       "2                      Jack Johnson - Constellations  \n",
       "3                        Foo Fighters - Learn To Fly  \n",
       "4  H??roes del Silencio - Apuesta Por El Rock 'N'...  "
      ]
     },
     "execution_count": 12,
     "metadata": {},
     "output_type": "execute_result"
    }
   ],
   "source": [
    "df = pd.merge(users, songs.drop_duplicates([\"song_id\"]), on='song_id', how='left')\n",
    "df['song'] = df['Artist'] + ' - ' + df['title']\n",
    "df = df.drop(['title'], axis=1)\n",
    "df = df.head(50000)\n",
    "df.head()"
   ]
  },
  {
   "cell_type": "code",
   "execution_count": 13,
   "id": "2db0a48b",
   "metadata": {},
   "outputs": [
    {
     "name": "stdout",
     "output_type": "stream",
     "text": [
      "Total entries:\n",
      "\n"
     ]
    },
    {
     "data": {
      "text/plain": [
       "user_id         50000\n",
       "song_id         50000\n",
       "listen_count    50000\n",
       "Album           50000\n",
       "Artist          50000\n",
       "year            50000\n",
       "song            50000\n",
       "dtype: int64"
      ]
     },
     "execution_count": 13,
     "metadata": {},
     "output_type": "execute_result"
    }
   ],
   "source": [
    "print(\"Total entries:\\n\")\n",
    "df.count()"
   ]
  },
  {
   "cell_type": "code",
   "execution_count": 14,
   "id": "ba2da5c6",
   "metadata": {},
   "outputs": [
    {
     "name": "stdout",
     "output_type": "stream",
     "text": [
      "Number of unique users:  1879\n",
      "Number of artists:  3215\n",
      "Number of songs:  9370\n"
     ]
    }
   ],
   "source": [
    "print(\"Number of unique users: \", df.user_id.nunique(dropna = True))\n",
    "print(\"Number of artists: \", df.Artist.nunique(dropna=True))\n",
    "print(\"Number of songs: \", df.song_id.nunique(dropna=True))"
   ]
  },
  {
   "cell_type": "code",
   "execution_count": 15,
   "id": "44905984",
   "metadata": {},
   "outputs": [],
   "source": [
    "artist_name=df[\"Artist\"]"
   ]
  },
  {
   "cell_type": "code",
   "execution_count": 16,
   "id": "528cd9ad",
   "metadata": {},
   "outputs": [
    {
     "name": "stdout",
     "output_type": "stream",
     "text": [
      "[751 644 517 461 411 407 396 394 382 342]\n"
     ]
    }
   ],
   "source": [
    "x = (df['Artist'].value_counts()[:10].values)\n",
    "print(x)"
   ]
  },
  {
   "cell_type": "code",
   "execution_count": 17,
   "id": "374b7eb9",
   "metadata": {},
   "outputs": [
    {
     "name": "stdout",
     "output_type": "stream",
     "text": [
      "Index(['Coldplay', 'The Black Keys', 'Kings Of Leon', 'Florence + The Machine',\n",
      "       'Jack Johnson', 'The Killers', 'Radiohead', 'Daft Punk', 'Eminem',\n",
      "       'Justin Bieber'],\n",
      "      dtype='object')\n"
     ]
    }
   ],
   "source": [
    "y = (df['Artist'].value_counts()[:10].index)\n",
    "print(y)"
   ]
  },
  {
   "cell_type": "code",
   "execution_count": 18,
   "id": "d3606ff8",
   "metadata": {},
   "outputs": [
    {
     "data": {
      "image/png": "[encoded data removed]",
      "text/plain": [
       "<Figure size 720x504 with 1 Axes>"
      ]
     },
     "metadata": {},
     "output_type": "display_data"
    }
   ],
   "source": [
    "my_circle=plt.Circle( (0,0), 0.7, color='black')\n",
    "#plt.rcParams['text.color'] = 'white'\n",
    "explode=0,0,0,0,0,0,0,0,0,0.1\n",
    "colors = ['Red','Blue','Olive','Yellow','Green','Silver','Purple','Orange','Cyan','Pink']\n",
    "fig = plt.figure(figsize =(10, 7))\n",
    "plt.pie(x,labels = y,colors=colors,autopct='%1.1f%%',shadow=True, startangle=45)\n",
    "#plt.axis('off')\n",
    "#plt.margins(False)\n",
    "#ax1 = plt.plot()\n",
    "\n",
    "p=plt.gcf()\n",
    "p.gca().add_artist(my_circle)\n",
    "plt.show()\n",
    "#plt.show()"
   ]
  },
  {
   "cell_type": "code",
   "execution_count": 19,
   "id": "06a66d89",
   "metadata": {},
   "outputs": [
    {
     "data": {
      "image/png": "[encoded data removed]",
      "text/plain": [
       "<Figure size 1440x720 with 1 Axes>"
      ]
     },
     "metadata": {
      "needs_background": "dark"
     },
     "output_type": "display_data"
    }
   ],
   "source": [
    "plt.figure(figsize=(20, 10))\n",
    "sns.set(rc={'axes.facecolor':'black', 'figure.facecolor':'black'})\n",
    "sns.countplot(x='year', data=df[-(df['year']==0)], color=\"white\")\n",
    "plt.xticks(rotation=90, color=\"white\")\n",
    "plt.yticks(color=\"white\")\n",
    "plt.title(\"No. of Songs per Year\", fontsize=20, color=\"white\")\n",
    "plt.xlabel(\"Year\", fontsize=20, color=\"white\")\n",
    "plt.ylabel(\"Count\", fontsize=20, color=\"white\")\n",
    "plt.show()"
   ]
  },
  {
   "cell_type": "code",
   "execution_count": 20,
   "id": "b3cb815e",
   "metadata": {},
   "outputs": [
    {
     "data": {
      "image/png": "[encoded data removed]",
      "text/plain": [
       "<Figure size 360x360 with 1 Axes>"
      ]
     },
     "metadata": {},
     "output_type": "display_data"
    }
   ],
   "source": [
    "plt.figure(figsize=(5,5))\n",
    "sns.set(rc={'axes.facecolor':'black', 'figure.facecolor':'black'})\n",
    "sns.barplot(x = (df['song'].value_counts()[:10].values), y = (df['song'].value_counts()[:10].index), color=\"white\")\n",
    "plt.title('Most Popular Songs', fontsize=20, color=\"white\")\n",
    "plt.xlabel('Listeners', fontsize=25, color=\"white\")\n",
    "plt.xticks(color=\"white\")\n",
    "plt.ylabel('Songs', fontsize=25, color=\"white\")\n",
    "plt.yticks(fontsize=15,color=\"white\")\n",
    "plt.show()"
   ]
  },
  {
   "cell_type": "code",
   "execution_count": 21,
   "id": "0d8e5830",
   "metadata": {},
   "outputs": [
    {
     "data": {
      "image/png": "[encoded data removed]",
      "text/plain": [
       "<Figure size 1080x360 with 1 Axes>"
      ]
     },
     "metadata": {},
     "output_type": "display_data"
    }
   ],
   "source": [
    "plt.figure(figsize=(15,5))\n",
    "sns.set(rc={'axes.facecolor':'black', 'figure.facecolor':'black'})\n",
    "sns.barplot(x = (df['Artist'].value_counts()[:10].index), y = (df['Artist'].value_counts()[:10].values), color=\"white\")\n",
    "plt.title('No. of Listeners per Artist', fontsize=20,color=\"white\")\n",
    "plt.xticks(color=\"white\")\n",
    "plt.yticks(color=\"white\")\n",
    "plt.xlabel('Artist', fontsize=17,color=\"white\")\n",
    "plt.ylabel('Listeners', fontsize=17,color=\"white\")\n",
    "plt.show()"
   ]
  },
  {
   "cell_type": "code",
   "execution_count": 22,
   "id": "f1c5948d",
   "metadata": {},
   "outputs": [],
   "source": [
    "class Engine():\n",
    "    def __init__(self, data, user_id, song):\n",
    "        self.data = data\n",
    "        self.user_id = user_id\n",
    "        self.song = song\n",
    "        self.glcm = None\n",
    "        \n",
    "    def get_song_history(self, user):\n",
    "        user_data = self.data[self.data[self.user_id] == user]\n",
    "        return list(user_data[self.song].unique())\n",
    "        \n",
    "    def get_users(self, item):\n",
    "        item_data = self.data[self.data[self.song] == item]\n",
    "        return set(item_data[self.user_id].unique())\n",
    "        \n",
    "    def get_all_songs(self):\n",
    "        return list(self.data[self.song].unique())\n",
    "        \n",
    "    def get_glcm(self, user_songs, all_songs):\n",
    "        users = []        \n",
    "        for i in range(0, len(user_songs)):\n",
    "            users.append(self.get_users(user_songs[i]))   \n",
    "        glcm = np.matrix(np.zeros(shape=(len(user_songs), len(all_songs))), float)\n",
    "\n",
    "        for i in range(0,len(all_songs)):\n",
    "            songs_i_data = self.data[self.data[self.song] == all_songs[i]]\n",
    "            users_i = set(songs_i_data[self.user_id].unique())\n",
    "            \n",
    "            for j in range(0,len(user_songs)):           \n",
    "                users_j = users[j]\n",
    "                users_intersection = users_i.intersection(users_j)\n",
    "               \n",
    "                users_union = users_i.union(users_j)\n",
    "                glcm[j,i] = float(len(users_intersection))/float(len(users_union))\n",
    "\n",
    "        return glcm\n",
    "\n",
    "    def generate_recommendations(self, user, glcm, all_songs, user_songs):\n",
    "        sim_scores = glcm.sum(axis=0)/float(glcm.shape[0])\n",
    "        sim_scores = np.array(sim_scores)[0].tolist()\n",
    " \n",
    "        sort_index = sorted(((e,i) for i,e in enumerate(list(sim_scores))), reverse=True)\n",
    "        columns = ['UserID', 'Song', 'Score', 'Rank']\n",
    "        df = pd.DataFrame(columns=columns)\n",
    "         \n",
    "        rank = 1 \n",
    "        for i in range(0,len(sort_index)):\n",
    "            if ~np.isnan(sort_index[i][0]) and all_songs[sort_index[i][1]] not in user_songs and rank <= 10:\n",
    "                df.loc[len(df)]=[user,all_songs[sort_index[i][1]],sort_index[i][0],rank]\n",
    "                rank = rank+1\n",
    "        \n",
    "        print(\"Music Recommendations: \\n\")\n",
    "        return df.drop(['UserID'], axis=1)\n",
    "\n",
    "    def get_recommendations(self, user):\n",
    "        user_songs = self.get_song_history(user)    \n",
    "        all_songs = self.get_all_songs()\n",
    "        glcm = self.get_glcm(user_songs, all_songs)\n",
    "        return self.generate_recommendations(user, glcm, all_songs, user_songs)\n",
    "\n",
    "    def get_similar_songs(self, item_list):\n",
    "        user_songs = item_list\n",
    "        all_songs = self.get_all_songs()\n",
    "        glcm = self.get_glcm(user_songs, all_songs)\n",
    "        return self.generate_recommendations(\"\", glcm, all_songs, user_songs)"
   ]
  },
  {
   "cell_type": "code",
   "execution_count": 23,
   "id": "b2de06dc",
   "metadata": {},
   "outputs": [],
   "source": [
    "eng = Engine(df, 'user_id', 'song')\n",
    "song_history = eng.get_song_history(df['user_id'][1001])"
   ]
  },
  {
   "cell_type": "code",
   "execution_count": 24,
   "id": "b35ae247",
   "metadata": {},
   "outputs": [
    {
     "name": "stdout",
     "output_type": "stream",
     "text": [
      "User Song History: \n",
      "\n",
      "Muse - Uprising\n",
      "Weezer - No One Else\n",
      "Yeah Yeah Yeahs - Runaway\n",
      "The Killers - Losing Touch\n",
      "The Rural Alberta Advantage - Don't Haunt This Place\n",
      "Florence + The Machine - Dog Days Are Over (Radio Edit)\n",
      "Bright Eyes - At The Bottom Of Everything\n",
      "Jason Mraz & Colbie Caillat - Lucky (Album Version)\n",
      "Weezer - Island In The Sun\n",
      "Tiny Vipers - They Might Follow You\n",
      "Fleet Foxes - Innocent Son\n",
      "Linkin Park - Bleed It Out [Live At Milton Keynes]\n",
      "Frightened Rabbit - Yawns\n",
      "Weezer - El Scorcho\n",
      "Coldplay - Clocks\n",
      "Adam Lambert - Whataya Want From Me\n",
      "Justin Bieber - Somebody To Love\n",
      "Katy Perry - Waking Up In Vegas (Calvin Harris Remix Edit)\n",
      "Emmy The Great - Mia\n",
      "Weezer - My Name Is Jonas\n",
      "Darwin Deez - Radar Detector\n",
      "Rihanna - Rehab\n",
      "Camera Obscura - Teenager\n",
      "Lily Allen - Not Big\n",
      "Timbaland / Justin Timberlake / Nelly Furtado - Give It To Me\n",
      "The New Pornographers - Falling Through Your Clothes\n",
      "Ray LaMontagne - Trouble (Album Version)\n",
      "Yeah Yeah Yeahs - Soft Shock\n",
      "Bright Eyes - Old Soul Song\n",
      "Deer Tick - These Old Shoes\n",
      "Plain White T's - Hey There Delilah\n",
      "Harmonia - Sehr kosmisch\n",
      "Amy Winehouse - Fuck Me Pumps\n",
      "Ray LaMontagne - Shelter\n",
      "Vampire Weekend - A-Punk (Album)\n",
      "Weezer - Susanne\n",
      "Justin Timberlake;Justin Timberlake featuring will.i.am - Damn Girl\n",
      "Florence + The Machine - Kiss With A Fist\n",
      "Weezer - Pork And Beans\n",
      "The New Pornographers - Execution Day\n",
      "Yeah Yeah Yeahs - Little Shadow\n",
      "Bon Iver - re:stacks\n",
      "The Kills - Superstition\n",
      "Bon Iver - Flume\n",
      "Kings Of Leon - Manhattan\n",
      "Beirut - The Penalty\n",
      "Amy Winehouse - Me & Mr Jones\n",
      "Amos Lee - Soul Suckers\n",
      "Cage The Elephant - Ain't No Rest For The Wicked (Original Version)\n",
      "Stone Temple Pilots - Plush (Acoustic)\n",
      "Coldplay - The Scientist\n",
      "Dixie Chicks - Not Ready To Make Nice\n",
      "The Killers - Somebody Told Me\n",
      "Montell Jordan - This Is How We Do It\n",
      "Charttraxx Karaoke - Fireflies\n",
      "Damien Rice - Amie\n",
      "LMFAO - Yes\n",
      "Kelly Clarkson - The Trouble With Love Is\n",
      "Yeah Yeah Yeahs - Hysteric\n",
      "Ray LaMontagne - Hold You In My Arms\n",
      "Soltero - Ghost At The Foot Of The Bed\n",
      "Discovery - So Insane\n",
      "Fleet Foxes - White Winter Hymnal\n",
      "Modest Mouse - Float On\n",
      "The Rolling Stones - Angie (1993 Digital Remaster)\n",
      "Weezer - Say It Ain't So\n",
      "The All-American Rejects - My Paper Heart\n",
      "Death Cab for Cutie - I Will Follow You into the Dark (Album Version)\n",
      "Radiohead - Creep (Explicit)\n",
      "Iron And Wine - Boy With The Coin\n",
      "Radiohead - (Nice Dream)\n",
      "Alicia Keys - If I Ain't Got You\n",
      "Vampire Weekend - Cousins\n",
      "Beyonc?? - Dangerously In Love\n",
      "Benjy Ferree - Fear\n",
      "Steppenwolf - Magic Carpet Ride\n",
      "Lady GaGa - Alejandro\n",
      "Tokyo Police Club - Tessellate\n",
      "Lily Allen - Chinese\n",
      "Miley Cyrus - Goodbye\n",
      "Kings Of Leon - Revelry\n",
      "Bon Iver - Skinny Love\n",
      "Interpol - Public Pervert\n",
      "Damien Rice - Delicate\n",
      "Edward Sharpe & The Magnetic Zeros - Home\n",
      "Train - Marry Me\n",
      "Taylor Swift - Love Story\n",
      "The Avett Brothers - The Weight Of Lies\n",
      "John Mayer - Heartbreak Warfare\n",
      "Miley Cyrus - The Climb\n",
      "M.I.A. - Paper Planes\n",
      "The Strokes - You Only Live Once\n",
      "Lil Wayne / Eminem - Drop The World\n",
      "Kanye West - Late\n",
      "Kanye West - Hey Mama\n",
      "Weezer - Only In Dreams\n",
      "Miley Cyrus - Party In The U.S.A.\n",
      "LL Cool J - Doin' It\n",
      "Kings Of Leon - Use Somebody\n",
      "Modest Mouse - Heart Cooks Brain\n",
      "Foals - The French Open\n",
      "Coldplay - Fix You\n",
      "Yeah Yeah Yeahs - Gold Lion\n",
      "The Avett Brothers - Shame\n",
      "MGMT - Time To Pretend\n",
      "The Pussycat Dolls - When I Grow Up\n",
      "Weezer - The World Has Turned And Left Me Here\n",
      "Mariah Carey - Bye Bye\n",
      "Kings Of Leon - Joe's Head\n",
      "MGMT - Electric Feel\n",
      "The Verve - Bitter Sweet Symphony\n",
      "Yeah Yeah Yeahs - Heads Will Roll\n",
      "Amy Winehouse - Take The Box\n",
      "Gwen Stefani - Hollaback Girl\n",
      "Kings Of Leon - Ragoo\n",
      "Coldplay - Trouble\n",
      "The All-American Rejects - Swing_ Swing\n",
      "Amy Winehouse - He Can Only Hold Her\n"
     ]
    }
   ],
   "source": [
    "print(\"User Song History: \\n\")\n",
    "for song in song_history:\n",
    "  print(song)"
   ]
  },
  {
   "cell_type": "code",
   "execution_count": 25,
   "id": "49e1f829",
   "metadata": {},
   "outputs": [
    {
     "name": "stdout",
     "output_type": "stream",
     "text": [
      "Music Recommendations: \n",
      "\n"
     ]
    },
    {
     "data": {
      "text/html": [
       "<div>\n",
       "<style scoped>\n",
       "    .dataframe tbody tr th:only-of-type {\n",
       "        vertical-align: middle;\n",
       "    }\n",
       "\n",
       "    .dataframe tbody tr th {\n",
       "        vertical-align: top;\n",
       "    }\n",
       "\n",
       "    .dataframe thead th {\n",
       "        text-align: right;\n",
       "    }\n",
       "</style>\n",
       "<table border=\"1\" class=\"dataframe\">\n",
       "  <thead>\n",
       "    <tr style=\"text-align: right;\">\n",
       "      <th></th>\n",
       "      <th>Song</th>\n",
       "      <th>Score</th>\n",
       "      <th>Rank</th>\n",
       "    </tr>\n",
       "  </thead>\n",
       "  <tbody>\n",
       "    <tr>\n",
       "      <th>0</th>\n",
       "      <td>Usher featuring will.i.am - OMG</td>\n",
       "      <td>0.045576</td>\n",
       "      <td>1</td>\n",
       "    </tr>\n",
       "    <tr>\n",
       "      <th>1</th>\n",
       "      <td>Kid Cudi / MGMT / Ratatat - Pursuit Of Happine...</td>\n",
       "      <td>0.045071</td>\n",
       "      <td>2</td>\n",
       "    </tr>\n",
       "    <tr>\n",
       "      <th>2</th>\n",
       "      <td>Beyonc?? - Halo</td>\n",
       "      <td>0.043027</td>\n",
       "      <td>3</td>\n",
       "    </tr>\n",
       "    <tr>\n",
       "      <th>3</th>\n",
       "      <td>Paramore - The Only Exception (Album Version)</td>\n",
       "      <td>0.042851</td>\n",
       "      <td>4</td>\n",
       "    </tr>\n",
       "    <tr>\n",
       "      <th>4</th>\n",
       "      <td>Train - Hey_ Soul Sister</td>\n",
       "      <td>0.042728</td>\n",
       "      <td>5</td>\n",
       "    </tr>\n",
       "    <tr>\n",
       "      <th>5</th>\n",
       "      <td>OneRepublic - Secrets</td>\n",
       "      <td>0.042554</td>\n",
       "      <td>6</td>\n",
       "    </tr>\n",
       "    <tr>\n",
       "      <th>6</th>\n",
       "      <td>Florence + The Machine - Cosmic Love</td>\n",
       "      <td>0.041469</td>\n",
       "      <td>7</td>\n",
       "    </tr>\n",
       "    <tr>\n",
       "      <th>7</th>\n",
       "      <td>The Script - Breakeven</td>\n",
       "      <td>0.038114</td>\n",
       "      <td>8</td>\n",
       "    </tr>\n",
       "    <tr>\n",
       "      <th>8</th>\n",
       "      <td>La Roux - Bulletproof</td>\n",
       "      <td>0.037494</td>\n",
       "      <td>9</td>\n",
       "    </tr>\n",
       "    <tr>\n",
       "      <th>9</th>\n",
       "      <td>Linkin Park - In The End (Album Version)</td>\n",
       "      <td>0.037255</td>\n",
       "      <td>10</td>\n",
       "    </tr>\n",
       "  </tbody>\n",
       "</table>\n",
       "</div>"
      ],
      "text/plain": [
       "                                                Song     Score Rank\n",
       "0                    Usher featuring will.i.am - OMG  0.045576    1\n",
       "1  Kid Cudi / MGMT / Ratatat - Pursuit Of Happine...  0.045071    2\n",
       "2                                    Beyonc?? - Halo  0.043027    3\n",
       "3      Paramore - The Only Exception (Album Version)  0.042851    4\n",
       "4                           Train - Hey_ Soul Sister  0.042728    5\n",
       "5                              OneRepublic - Secrets  0.042554    6\n",
       "6               Florence + The Machine - Cosmic Love  0.041469    7\n",
       "7                             The Script - Breakeven  0.038114    8\n",
       "8                              La Roux - Bulletproof  0.037494    9\n",
       "9           Linkin Park - In The End (Album Version)  0.037255   10"
      ]
     },
     "execution_count": 25,
     "metadata": {},
     "output_type": "execute_result"
    }
   ],
   "source": [
    "eng.get_recommendations(df['user_id'][1001])"
   ]
  },
  {
   "cell_type": "code",
   "execution_count": 29,
   "id": "61a06525",
   "metadata": {},
   "outputs": [
    {
     "name": "stdout",
     "output_type": "stream",
     "text": [
      "Enter song name:La Roux - Bulletproof\n"
     ]
    }
   ],
   "source": [
    "a = input(\"Enter song name:\")"
   ]
  },
  {
   "cell_type": "code",
   "execution_count": 31,
   "id": "75e2fac8",
   "metadata": {},
   "outputs": [
    {
     "name": "stdout",
     "output_type": "stream",
     "text": [
      "Music Recommendations: \n",
      "\n"
     ]
    },
    {
     "data": {
      "text/html": [
       "<div>\n",
       "<style scoped>\n",
       "    .dataframe tbody tr th:only-of-type {\n",
       "        vertical-align: middle;\n",
       "    }\n",
       "\n",
       "    .dataframe tbody tr th {\n",
       "        vertical-align: top;\n",
       "    }\n",
       "\n",
       "    .dataframe thead th {\n",
       "        text-align: right;\n",
       "    }\n",
       "</style>\n",
       "<table border=\"1\" class=\"dataframe\">\n",
       "  <thead>\n",
       "    <tr style=\"text-align: right;\">\n",
       "      <th></th>\n",
       "      <th>Song</th>\n",
       "      <th>Score</th>\n",
       "      <th>Rank</th>\n",
       "    </tr>\n",
       "  </thead>\n",
       "  <tbody>\n",
       "    <tr>\n",
       "      <th>0</th>\n",
       "      <td>iio - Rapture</td>\n",
       "      <td>0.0</td>\n",
       "      <td>1</td>\n",
       "    </tr>\n",
       "    <tr>\n",
       "      <th>1</th>\n",
       "      <td>Wamdue Project - King Of My Castle [Nicola Fas...</td>\n",
       "      <td>0.0</td>\n",
       "      <td>2</td>\n",
       "    </tr>\n",
       "    <tr>\n",
       "      <th>2</th>\n",
       "      <td>Delegation - One More Step To Take</td>\n",
       "      <td>0.0</td>\n",
       "      <td>3</td>\n",
       "    </tr>\n",
       "    <tr>\n",
       "      <th>3</th>\n",
       "      <td>Jill Scott - How It Makes You Feel</td>\n",
       "      <td>0.0</td>\n",
       "      <td>4</td>\n",
       "    </tr>\n",
       "    <tr>\n",
       "      <th>4</th>\n",
       "      <td>Caparezza - Fuori Dal Tunnel (Album Version)</td>\n",
       "      <td>0.0</td>\n",
       "      <td>5</td>\n",
       "    </tr>\n",
       "    <tr>\n",
       "      <th>5</th>\n",
       "      <td>Robin Thicke / Lil Wayne - Shooter</td>\n",
       "      <td>0.0</td>\n",
       "      <td>6</td>\n",
       "    </tr>\n",
       "    <tr>\n",
       "      <th>6</th>\n",
       "      <td>Jeremih - Break Up To Make Up</td>\n",
       "      <td>0.0</td>\n",
       "      <td>7</td>\n",
       "    </tr>\n",
       "    <tr>\n",
       "      <th>7</th>\n",
       "      <td>Dustin O'Halloran - Opus No. 12</td>\n",
       "      <td>0.0</td>\n",
       "      <td>8</td>\n",
       "    </tr>\n",
       "    <tr>\n",
       "      <th>8</th>\n",
       "      <td>Alter Bridge - Watch Over You</td>\n",
       "      <td>0.0</td>\n",
       "      <td>9</td>\n",
       "    </tr>\n",
       "    <tr>\n",
       "      <th>9</th>\n",
       "      <td>Flyleaf - Arise</td>\n",
       "      <td>0.0</td>\n",
       "      <td>10</td>\n",
       "    </tr>\n",
       "  </tbody>\n",
       "</table>\n",
       "</div>"
      ],
      "text/plain": [
       "                                                Song  Score Rank\n",
       "0                                      iio - Rapture    0.0    1\n",
       "1  Wamdue Project - King Of My Castle [Nicola Fas...    0.0    2\n",
       "2                 Delegation - One More Step To Take    0.0    3\n",
       "3                 Jill Scott - How It Makes You Feel    0.0    4\n",
       "4       Caparezza - Fuori Dal Tunnel (Album Version)    0.0    5\n",
       "5                 Robin Thicke / Lil Wayne - Shooter    0.0    6\n",
       "6                      Jeremih - Break Up To Make Up    0.0    7\n",
       "7                    Dustin O'Halloran - Opus No. 12    0.0    8\n",
       "8                      Alter Bridge - Watch Over You    0.0    9\n",
       "9                                    Flyleaf - Arise    0.0   10"
      ]
     },
     "execution_count": 31,
     "metadata": {},
     "output_type": "execute_result"
    }
   ],
   "source": [
    "eng.get_similar_songs(a)"
   ]
  },
  {
   "cell_type": "code",
   "execution_count": null,
   "id": "4135e0ca",
   "metadata": {},
   "outputs": [],
   "source": []
  },
  {
   "cell_type": "code",
   "execution_count": null,
   "id": "5d3ee998",
   "metadata": {},
   "outputs": [],
   "source": []
  }
 ],
 "metadata": {
  "kernelspec": {
   "display_name": "Python 3",
   "language": "python",
   "name": "python3"
  },
  "language_info": {
   "codemirror_mode": {
    "name": "ipython",
    "version": 3
   },
   "file_extension": ".py",
   "mimetype": "text/x-python",
   "name": "python",
   "nbconvert_exporter": "python",
   "pygments_lexer": "ipython3",
   "version": "3.8.8"
  }
 },
 "nbformat": 4,
 "nbformat_minor": 5
}
